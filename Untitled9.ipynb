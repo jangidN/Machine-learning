{
  "nbformat": 4,
  "nbformat_minor": 0,
  "metadata": {
    "colab": {
      "name": "Untitled9.ipynb",
      "version": "0.3.2",
      "provenance": [],
      "include_colab_link": true
    },
    "kernelspec": {
      "name": "python3",
      "display_name": "Python 3"
    }
  },
  "cells": [
    {
      "cell_type": "markdown",
      "metadata": {
        "id": "view-in-github",
        "colab_type": "text"
      },
      "source": [
        "<a href=\"https://colab.research.google.com/github/jangidN/Machine-learning/blob/master/Untitled9.ipynb\" target=\"_parent\"><img src=\"https://colab.research.google.com/assets/colab-badge.svg\" alt=\"Open In Colab\"/></a>"
      ]
    },
    {
      "cell_type": "code",
      "metadata": {
        "id": "p-0ds1L9Q0R6",
        "colab_type": "code",
        "colab": {
          "base_uri": "https://localhost:8080/",
          "height": 235
        },
        "outputId": "0a7597b5-ed3e-49a5-d1db-21cb5796852d"
      },
      "source": [
        "import numpy as np\n",
        "\n",
        "print(\"enter the dimension tu you want\")\n",
        "n=int(input(\"enter the no. of rows\"))\n",
        "m=int(input(\"enter the no. of column\"))\n",
        "\n",
        "a=np.random.random_sample((n,m)) #get random variable\n",
        "print(a)\n",
        "np.savetxt('a1.txt',a)        #Saving the array to a file\n",
        "np.loadtxt('a1.txt')"
      ],
      "execution_count": 1,
      "outputs": [
        {
          "output_type": "stream",
          "text": [
            "enter the dimension tu you want\n",
            "enter the no. of rows5\n",
            "enter the no. of column4\n",
            "[[0.85961236 0.73298584 0.58245214 0.43648562]\n",
            " [0.45509852 0.21740606 0.79433555 0.54819674]\n",
            " [0.09376836 0.03358811 0.09093565 0.95189736]\n",
            " [0.77171189 0.29613381 0.4582954  0.66675479]\n",
            " [0.02341463 0.73573422 0.57614145 0.45862505]]\n"
          ],
          "name": "stdout"
        },
        {
          "output_type": "execute_result",
          "data": {
            "text/plain": [
              "array([[0.85961236, 0.73298584, 0.58245214, 0.43648562],\n",
              "       [0.45509852, 0.21740606, 0.79433555, 0.54819674],\n",
              "       [0.09376836, 0.03358811, 0.09093565, 0.95189736],\n",
              "       [0.77171189, 0.29613381, 0.4582954 , 0.66675479],\n",
              "       [0.02341463, 0.73573422, 0.57614145, 0.45862505]])"
            ]
          },
          "metadata": {
            "tags": []
          },
          "execution_count": 1
        }
      ]
    },
    {
      "cell_type": "code",
      "metadata": {
        "id": "CAjJFSq_RMIb",
        "colab_type": "code",
        "colab": {}
      },
      "source": [
        "5"
      ],
      "execution_count": 0,
      "outputs": []
    }
  ]
}