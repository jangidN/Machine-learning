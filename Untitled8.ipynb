{
  "nbformat": 4,
  "nbformat_minor": 0,
  "metadata": {
    "colab": {
      "name": "Untitled8.ipynb",
      "version": "0.3.2",
      "provenance": [],
      "include_colab_link": true
    },
    "kernelspec": {
      "name": "python3",
      "display_name": "Python 3"
    }
  },
  "cells": [
    {
      "cell_type": "markdown",
      "metadata": {
        "id": "view-in-github",
        "colab_type": "text"
      },
      "source": [
        "<a href=\"https://colab.research.google.com/github/jangidN/Machine-learning/blob/master/Untitled8.ipynb\" target=\"_parent\"><img src=\"https://colab.research.google.com/assets/colab-badge.svg\" alt=\"Open In Colab\"/></a>"
      ]
    },
    {
      "cell_type": "code",
      "metadata": {
        "id": "Yu_r-HUlOdDr",
        "colab_type": "code",
        "colab": {
          "base_uri": "https://localhost:8080/",
          "height": 118
        },
        "outputId": "dad40112-b12c-4625-9ae2-4263f7a24008"
      },
      "source": [
        "import numpy as npy\n",
        "import random\n",
        "print(\"Enter details for 1st matrix\")\n",
        "x=int (input(\"Enter no. of rows for Matrix 1  :  \"))\n",
        "y=int (input(\"Enter no. of columns for Matrix 1 :  \"))\n",
        "\n",
        "print(\"Enter details for 2nd matrix\")\n",
        "x1=int(input(\"Enter no. of rows for Matrix 2  :\"))\n",
        "y1=int(input(\"Enter no. of columns for Matrix 2  :  \"))"
      ],
      "execution_count": 1,
      "outputs": [
        {
          "output_type": "stream",
          "text": [
            "Enter details for 1st matrix\n",
            "Enter no. of rows for Matrix 1  :  3\n",
            "Enter no. of columns for Matrix 1 :  2\n",
            "Enter details for 2nd matrix\n",
            "Enter no. of rows for Matrix 2  :4\n",
            "Enter no. of columns for Matrix 2  :  3\n"
          ],
          "name": "stdout"
        }
      ]
    },
    {
      "cell_type": "code",
      "metadata": {
        "id": "A-9oGHfVOuUk",
        "colab_type": "code",
        "colab": {
          "base_uri": "https://localhost:8080/",
          "height": 118
        },
        "outputId": "6a57fa22-ac2a-4231-83bf-03871316059d"
      },
      "source": [
        "#a is (x,y)\n",
        "#b is (x1,y1)\n",
        "   \n",
        "\n",
        "a=npy.random.randint(10, size=(x, y))\n",
        "b=npy.random.randint(10, size=(x1,y1))\n",
        "  \n",
        "  \n",
        "npy.savetxt(\"array1.txt\", a,fmt=\"%s\")\n",
        "npy.savetxt(\"array2.txt\",b, fmt=\"%s\")\n",
        "print(\"ARRAY 1\")\n",
        "npy.loadtxt(\"array1.txt\")\n",
        "print(\"ARRAY 2\")\n",
        "npy.loadtxt(\"array2.txt\")"
      ],
      "execution_count": 2,
      "outputs": [
        {
          "output_type": "stream",
          "text": [
            "ARRAY 1\n",
            "ARRAY 2\n"
          ],
          "name": "stdout"
        },
        {
          "output_type": "execute_result",
          "data": {
            "text/plain": [
              "array([[1., 8., 9.],\n",
              "       [8., 0., 4.],\n",
              "       [2., 8., 2.],\n",
              "       [2., 8., 0.]])"
            ]
          },
          "metadata": {
            "tags": []
          },
          "execution_count": 2
        }
      ]
    },
    {
      "cell_type": "code",
      "metadata": {
        "id": "KZeXAYvvPDr1",
        "colab_type": "code",
        "colab": {
          "base_uri": "https://localhost:8080/",
          "height": 84
        },
        "outputId": "51dbd8db-b61c-452d-e3b3-6d23e0f11d6b"
      },
      "source": [
        "print(\"ARRAY 1\")\n",
        "npy.loadtxt(\"array1.txt\")"
      ],
      "execution_count": 3,
      "outputs": [
        {
          "output_type": "stream",
          "text": [
            "ARRAY 1\n"
          ],
          "name": "stdout"
        },
        {
          "output_type": "execute_result",
          "data": {
            "text/plain": [
              "array([[4., 1.],\n",
              "       [6., 8.],\n",
              "       [9., 9.]])"
            ]
          },
          "metadata": {
            "tags": []
          },
          "execution_count": 3
        }
      ]
    },
    {
      "cell_type": "code",
      "metadata": {
        "id": "eccb8w-jPxD0",
        "colab_type": "code",
        "colab": {}
      },
      "source": [
        ""
      ],
      "execution_count": 0,
      "outputs": []
    }
  ]
}